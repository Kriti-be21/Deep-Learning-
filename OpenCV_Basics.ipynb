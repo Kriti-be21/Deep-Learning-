{
  "cells": [
    {
      "cell_type": "markdown",
      "metadata": {
        "id": "view-in-github",
        "colab_type": "text"
      },
      "source": [
        "<a href=\"https://colab.research.google.com/github/Kriti-be21/Deep-Learning-/blob/main/OpenCV_Basics.ipynb\" target=\"_parent\"><img src=\"https://colab.research.google.com/assets/colab-badge.svg\" alt=\"Open In Colab\"/></a>"
      ]
    },
    {
      "cell_type": "markdown",
      "metadata": {
        "id": "dq2Jj0bqkfhC"
      },
      "source": [
        "# **Following are covered in the OpenCV Basics**\n",
        "\n",
        "## *1. Loading Image*\n",
        "\n",
        "## *2. Displaying Image*\n",
        "\n",
        "## *3. Converting to Gray Scale*\n",
        "\n",
        "## *4. Saving Images*\n",
        "\n",
        "## *5. BGR Color Space*\n",
        "\n",
        "## *6. HSV Color Space*"
      ]
    },
    {
      "cell_type": "code",
      "execution_count": null,
      "metadata": {
        "id": "06rxUg6V6yfe"
      },
      "outputs": [],
      "source": [
        "import cv2\n",
        "from google.colab.patches import cv2_imshow"
      ]
    },
    {
      "cell_type": "markdown",
      "metadata": {
        "id": "twg-vnLCcgyO"
      },
      "source": [
        "### **Loading Image**"
      ]
    },
    {
      "cell_type": "code",
      "execution_count": null,
      "metadata": {
        "id": "GinI37YnQy_Y"
      },
      "outputs": [],
      "source": [
        "#Colored Image\n",
        "img = cv2.imread(\"sahil1.JPG\",1)\n",
        "print(img.shape)\n",
        "print(type(img))\n",
        "#print(img)"
      ]
    },
    {
      "cell_type": "markdown",
      "metadata": {
        "id": "5wIkRkiCcw1I"
      },
      "source": [
        "###**Displaying Image**"
      ]
    },
    {
      "cell_type": "code",
      "execution_count": null,
      "metadata": {
        "id": "PP6X_XwFUT-F"
      },
      "outputs": [],
      "source": [
        "from matplotlib import pyplot as plt\n",
        "\n",
        "#Show the image with matplotlib\n",
        "plt.imshow(cv2.cvtColor(img, cv2.COLOR_BGR2RGB))\n",
        "plt.show()"
      ]
    },
    {
      "cell_type": "code",
      "execution_count": null,
      "metadata": {
        "id": "rE6-v7LhTLOn"
      },
      "outputs": [],
      "source": [
        "cv2_imshow(img)"
      ]
    },
    {
      "cell_type": "markdown",
      "metadata": {
        "id": "NclazgUcc66L"
      },
      "source": [
        "###**Converting to Grayscale**"
      ]
    },
    {
      "cell_type": "code",
      "execution_count": null,
      "metadata": {
        "id": "zfvHD-D-Yz-m"
      },
      "outputs": [],
      "source": [
        "# Define our imshow function \n",
        "def imshow(title = \"Image\", image = None, size = 10):\n",
        "    w, h = image.shape[0], image.shape[1]\n",
        "    aspect_ratio = w/h\n",
        "    plt.figure(figsize=(size * aspect_ratio,size))\n",
        "    plt.imshow(cv2.cvtColor(image, cv2.COLOR_BGR2RGB))\n",
        "    plt.title(title)\n",
        "    plt.show()"
      ]
    },
    {
      "cell_type": "code",
      "execution_count": null,
      "metadata": {
        "id": "C7zMWgP4YXvp"
      },
      "outputs": [],
      "source": [
        "gray_image = cv2.cvtColor(img, cv2.COLOR_BGR2GRAY)\n",
        "imshow(\"Converted to Grayscale\", gray_image)"
      ]
    },
    {
      "cell_type": "code",
      "execution_count": null,
      "metadata": {
        "id": "QID3Du39RGFe"
      },
      "outputs": [],
      "source": [
        "#GrayScale (Black and White) Image\n",
        "img = cv2.imread(\"sahil1.JPG\",0)\n",
        "print(img.shape)\n",
        "print(type(img))\n",
        "print(img)"
      ]
    },
    {
      "cell_type": "code",
      "execution_count": null,
      "metadata": {
        "id": "wDVddn1VRMDW"
      },
      "outputs": [],
      "source": [
        "cv2_imshow(img)"
      ]
    },
    {
      "cell_type": "markdown",
      "metadata": {
        "id": "ANVtGqaWdEp0"
      },
      "source": [
        "###**Saving images**"
      ]
    },
    {
      "cell_type": "code",
      "execution_count": null,
      "metadata": {
        "id": "HEhWAFB6Suy5"
      },
      "outputs": [],
      "source": [
        "# Simply use 'imwrite' specificing the file name and the image to be saved\n",
        "cv2.imwrite('output.jpg', img)"
      ]
    },
    {
      "cell_type": "markdown",
      "metadata": {
        "id": "rZDPVGZDjKga"
      },
      "source": [
        "# **Color Spaces**\n",
        "\n",
        "1. View the individual channels of an RGB Image\n",
        "2. Manipulate a color space\n",
        "3. Introduce HSV Color Spaces"
      ]
    },
    {
      "cell_type": "code",
      "execution_count": null,
      "metadata": {
        "id": "lucbLemcdIta"
      },
      "outputs": [],
      "source": [
        "import numpy as np"
      ]
    },
    {
      "cell_type": "code",
      "execution_count": null,
      "metadata": {
        "id": "Ienwhp6BjUkE"
      },
      "outputs": [],
      "source": [
        "# Download and unzip our images\n",
        "!wget https://moderncomputervision.s3.eu-west-2.amazonaws.com/images.zip"
      ]
    },
    {
      "cell_type": "code",
      "source": [
        "!unzip -qq images.zip"
      ],
      "metadata": {
        "id": "jBbJ65O7sfvQ"
      },
      "execution_count": null,
      "outputs": []
    },
    {
      "cell_type": "code",
      "execution_count": null,
      "metadata": {
        "id": "VmW5QRERjXMg"
      },
      "outputs": [],
      "source": [
        "# Load our input image\n",
        "image = cv2.imread('./images/castara.jpeg')\n",
        "\n",
        "# Use cv2.split to get each color space separately\n",
        "B, G, R = cv2.split(image)\n",
        "print(B.shape)\n",
        "print(G.shape)\n",
        "print(R.shape)"
      ]
    },
    {
      "cell_type": "code",
      "execution_count": null,
      "metadata": {
        "id": "dDRycdG9jbsA"
      },
      "outputs": [],
      "source": [
        "# Each color space on it's on will look like a grayscale as it lacks the other color channels\n",
        "imshow(\"Blue Channel Only\", B)"
      ]
    },
    {
      "cell_type": "code",
      "execution_count": null,
      "metadata": {
        "id": "ItxkU8vqjeYr"
      },
      "outputs": [],
      "source": [
        "# Let's create a matrix of zeros \n",
        "# with dimensions of the image h x w  \n",
        "zeros = np.zeros(image.shape[:2], dtype = \"uint8\")\n",
        "\n",
        "imshow(\"Red\", cv2.merge([zeros, zeros, R]))\n",
        "imshow(\"Green\", cv2.merge([zeros, G, zeros]))\n",
        "imshow(\"Blue\", cv2.merge([B, zeros, zeros]))"
      ]
    },
    {
      "cell_type": "code",
      "execution_count": null,
      "metadata": {
        "id": "AIJ72pbgjjLJ"
      },
      "outputs": [],
      "source": [
        "image = cv2.imread('./images/castara.jpeg')\n",
        "\n",
        "# OpenCV's 'split' function splites the image into each color index\n",
        "B, G, R = cv2.split(image)\n",
        "\n",
        "# Let's re-make the original image, \n",
        "merged = cv2.merge([B, G, R]) \n",
        "imshow(\"Merged\", merged) "
      ]
    },
    {
      "cell_type": "code",
      "execution_count": null,
      "metadata": {
        "id": "6TxNHfdejszQ"
      },
      "outputs": [],
      "source": [
        "# Let's amplify the blue color\n",
        "merged = cv2.merge([B+100, G, R])\n",
        "imshow(\"Blue Boost\", merged)"
      ]
    },
    {
      "cell_type": "markdown",
      "metadata": {
        "id": "-6OlvbXbj0zi"
      },
      "source": [
        "## **HSV Color Space**\n",
        "\n",
        "![](https://upload.wikimedia.org/wikipedia/commons/f/f2/HSV_color_solid_cone.png)\n",
        "\n",
        "- Hue: 0 - 179 \n",
        "- Saturation: 0 - 255\n",
        "- Value (Intensity): 0 - 255"
      ]
    },
    {
      "cell_type": "code",
      "execution_count": null,
      "metadata": {
        "id": "PI62gF5HjxKq"
      },
      "outputs": [],
      "source": [
        "# Reload our image\n",
        "image = cv2.imread('./images/castara.jpeg')\n",
        "\n",
        "# Convert to HSV\n",
        "hsv_image = cv2.cvtColor(image, cv2.COLOR_BGR2HSV)\n",
        "imshow('HSV', hsv_image)"
      ]
    },
    {
      "cell_type": "markdown",
      "metadata": {
        "id": "5Wo3eRjHj-tw"
      },
      "source": [
        "#### This looks odd....why? \n",
        "\n",
        "Because our plotting function was designed for RGB only images, not HSV"
      ]
    },
    {
      "cell_type": "code",
      "execution_count": null,
      "metadata": {
        "id": "F4KY0F1zj4HG"
      },
      "outputs": [],
      "source": [
        "plt.imshow(cv2.cvtColor(hsv_image, cv2.COLOR_HSV2RGB))\n",
        "plt.show()"
      ]
    },
    {
      "cell_type": "markdown",
      "source": [
        ""
      ],
      "metadata": {
        "id": "TwOLPRrA9Rqo"
      }
    },
    {
      "cell_type": "markdown",
      "metadata": {
        "id": "vqKUmwNokDiW"
      },
      "source": [
        "### **View each channel type in the HSV Color Space representation**"
      ]
    },
    {
      "cell_type": "code",
      "execution_count": null,
      "metadata": {
        "id": "GyP7vy4jj82G"
      },
      "outputs": [],
      "source": [
        "# Switching back to viewing the RGB representation\n",
        "imshow(\"Hue\", hsv_image[:, :, 0])\n",
        "imshow(\"Saturation\", hsv_image[:, :, 1])\n",
        "imshow(\"Value\", hsv_image[:, :, 2])"
      ]
    },
    {
      "cell_type": "markdown",
      "metadata": {
        "id": "g7RSUPsfka-G"
      },
      "source": [
        "###End of Code"
      ]
    }
  ],
  "metadata": {
    "colab": {
      "name": "OpenCV_Basics.ipynb",
      "provenance": [],
      "include_colab_link": true
    },
    "kernelspec": {
      "display_name": "Python 3",
      "name": "python3"
    },
    "language_info": {
      "name": "python"
    }
  },
  "nbformat": 4,
  "nbformat_minor": 0
}